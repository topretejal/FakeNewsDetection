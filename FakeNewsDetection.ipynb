{
  "nbformat": 4,
  "nbformat_minor": 0,
  "metadata": {
    "colab": {
      "name": "FakeNewsDetection.ipynb",
      "provenance": []
    },
    "kernelspec": {
      "name": "python3",
      "display_name": "Python 3"
    }
  },
  "cells": [
    {
      "cell_type": "code",
      "metadata": {
        "id": "otQjPVNwbhU1"
      },
      "source": [
        "import numpy as np \n",
        "import pandas as pd \n",
        "import itertools \n",
        "from sklearn.model_selection import train_test_split \n",
        "from sklearn.feature_extraction.text import TfidfVectorizer \n",
        "from sklearn.linear_model import PassiveAggressiveClassifier \n",
        "from sklearn.metrics import accuracy_score, confusion_matrix"
      ],
      "execution_count": 3,
      "outputs": []
    },
    {
      "cell_type": "code",
      "metadata": {
        "colab": {
          "base_uri": "https://localhost:8080/",
          "height": 323
        },
        "id": "oYddChlib0ll",
        "outputId": "45e77caf-c234-4138-cf10-c5c1f1485fc6"
      },
      "source": [
        "#Read the data\n",
        "df=pd.read_csv('news.csv')\n",
        "print(df.shape)\n",
        "df.head()\n",
        "# print(\"End Data\")\n",
        "# df.tail()\n",
        "\n"
      ],
      "execution_count": 10,
      "outputs": [
        {
          "output_type": "stream",
          "text": [
            "(6335, 4)\n"
          ],
          "name": "stdout"
        },
        {
          "output_type": "execute_result",
          "data": {
            "text/html": [
              "<div>\n",
              "<style scoped>\n",
              "    .dataframe tbody tr th:only-of-type {\n",
              "        vertical-align: middle;\n",
              "    }\n",
              "\n",
              "    .dataframe tbody tr th {\n",
              "        vertical-align: top;\n",
              "    }\n",
              "\n",
              "    .dataframe thead th {\n",
              "        text-align: right;\n",
              "    }\n",
              "</style>\n",
              "<table border=\"1\" class=\"dataframe\">\n",
              "  <thead>\n",
              "    <tr style=\"text-align: right;\">\n",
              "      <th></th>\n",
              "      <th>Unnamed: 0</th>\n",
              "      <th>title</th>\n",
              "      <th>text</th>\n",
              "      <th>label</th>\n",
              "    </tr>\n",
              "  </thead>\n",
              "  <tbody>\n",
              "    <tr>\n",
              "      <th>0</th>\n",
              "      <td>8476</td>\n",
              "      <td>You Can Smell Hillary’s Fear</td>\n",
              "      <td>Daniel Greenfield, a Shillman Journalism Fello...</td>\n",
              "      <td>FAKE</td>\n",
              "    </tr>\n",
              "    <tr>\n",
              "      <th>1</th>\n",
              "      <td>10294</td>\n",
              "      <td>Watch The Exact Moment Paul Ryan Committed Pol...</td>\n",
              "      <td>Google Pinterest Digg Linkedin Reddit Stumbleu...</td>\n",
              "      <td>FAKE</td>\n",
              "    </tr>\n",
              "    <tr>\n",
              "      <th>2</th>\n",
              "      <td>3608</td>\n",
              "      <td>Kerry to go to Paris in gesture of sympathy</td>\n",
              "      <td>U.S. Secretary of State John F. Kerry said Mon...</td>\n",
              "      <td>REAL</td>\n",
              "    </tr>\n",
              "    <tr>\n",
              "      <th>3</th>\n",
              "      <td>10142</td>\n",
              "      <td>Bernie supporters on Twitter erupt in anger ag...</td>\n",
              "      <td>— Kaydee King (@KaydeeKing) November 9, 2016 T...</td>\n",
              "      <td>FAKE</td>\n",
              "    </tr>\n",
              "    <tr>\n",
              "      <th>4</th>\n",
              "      <td>875</td>\n",
              "      <td>The Battle of New York: Why This Primary Matters</td>\n",
              "      <td>It's primary day in New York and front-runners...</td>\n",
              "      <td>REAL</td>\n",
              "    </tr>\n",
              "  </tbody>\n",
              "</table>\n",
              "</div>"
            ],
            "text/plain": [
              "   Unnamed: 0  ... label\n",
              "0        8476  ...  FAKE\n",
              "1       10294  ...  FAKE\n",
              "2        3608  ...  REAL\n",
              "3       10142  ...  FAKE\n",
              "4         875  ...  REAL\n",
              "\n",
              "[5 rows x 4 columns]"
            ]
          },
          "metadata": {
            "tags": []
          },
          "execution_count": 10
        }
      ]
    },
    {
      "cell_type": "markdown",
      "metadata": {
        "id": "3iIwc-JdgzbQ"
      },
      "source": [
        "***Getting Labels***"
      ]
    },
    {
      "cell_type": "code",
      "metadata": {
        "colab": {
          "base_uri": "https://localhost:8080/"
        },
        "id": "xbngxkY3gw7N",
        "outputId": "1814474e-ac87-4d5c-dbbf-b1c0b88d7d4e"
      },
      "source": [
        "labels=df.label\n",
        "labels.head()"
      ],
      "execution_count": 12,
      "outputs": [
        {
          "output_type": "execute_result",
          "data": {
            "text/plain": [
              "0    FAKE\n",
              "1    FAKE\n",
              "2    REAL\n",
              "3    FAKE\n",
              "4    REAL\n",
              "Name: label, dtype: object"
            ]
          },
          "metadata": {
            "tags": []
          },
          "execution_count": 12
        }
      ]
    },
    {
      "cell_type": "markdown",
      "metadata": {
        "id": "UNSKNNpAizp7"
      },
      "source": [
        "***Splitting dataset into training and test sets***"
      ]
    },
    {
      "cell_type": "code",
      "metadata": {
        "colab": {
          "base_uri": "https://localhost:8080/"
        },
        "id": "5wGiKrEpjLgL",
        "outputId": "da0a3b0c-98d0-45ff-e8b5-09d8a7f68384"
      },
      "source": [
        "xTrain,xTest,yTrain,yTest=train_test_split(df['text'],labels,test_size=0.2,random_state=7)\n",
        "print(\"xTrain size :{}\".format(xTrain.shape))\n",
        "print(\"yTrain size:{}\".format(yTrain.shape))\n",
        "print(\"xTest size:{}\".format(xTest.shape))\n",
        "print(\"yTest size:{}\".format(yTest.shape))\n"
      ],
      "execution_count": 15,
      "outputs": [
        {
          "output_type": "stream",
          "text": [
            "xTrain size :(5068,)\n",
            "yTrain size:(5068,)\n",
            "xTest size:(1267,)\n",
            "yTest size:(1267,)\n"
          ],
          "name": "stdout"
        }
      ]
    },
    {
      "cell_type": "markdown",
      "metadata": {
        "id": "TcrwkI-wmyNL"
      },
      "source": [
        "***fit TfidfVectorizer on train set and transform the vectorizer on the test set***"
      ]
    },
    {
      "cell_type": "code",
      "metadata": {
        "id": "1bvlk2PPnJnP"
      },
      "source": [
        "#Initializing a TfidfVectorizer\n",
        "tfidf_vectorizer=TfidfVectorizer(stop_words='english',max_df=0.7)\n",
        "\n",
        "#Fit and transform train set, transform test set\n",
        "tfidf_train=tfidf_vectorizer.fit_transform(xTrain)\n",
        "tfidf_test=tfidf_vectorizer.transform(xTest)\n",
        "\n",
        "# print(tfidf_train)"
      ],
      "execution_count": 19,
      "outputs": []
    },
    {
      "cell_type": "markdown",
      "metadata": {
        "id": "OlqjVc8KpVwK"
      },
      "source": [
        "***Initializing PassiveAggressiveClassifier and fitting it on tfidf_train and y_train***"
      ]
    },
    {
      "cell_type": "code",
      "metadata": {
        "colab": {
          "base_uri": "https://localhost:8080/"
        },
        "id": "eyAFryUMpv-D",
        "outputId": "744e6022-d76f-4772-e046-a4618477b2d4"
      },
      "source": [
        "#Initializing a PassiveAggressiveClassifier\n",
        "pac=PassiveAggressiveClassifier(max_iter=50)\n",
        "pac.fit(tfidf_train,yTrain)\n",
        "\n",
        "#Predict on the test set and calculate accuracy\n",
        "y_pred=pac.predict(tfidf_test)\n",
        "score=accuracy_score(yTest,y_pred)\n",
        "print(\"Score:{}\".format(score))\n",
        "print(f'Accuracy: {round(score*100,2)}%')"
      ],
      "execution_count": 21,
      "outputs": [
        {
          "output_type": "stream",
          "text": [
            "Score:0.9297553275453828\n",
            "Accuracy: 92.98%\n"
          ],
          "name": "stdout"
        }
      ]
    },
    {
      "cell_type": "markdown",
      "metadata": {
        "id": "hip9brBorl5_"
      },
      "source": [
        "***Getting number of true positives, true negatives, false positives, false negatives***"
      ]
    },
    {
      "cell_type": "code",
      "metadata": {
        "colab": {
          "base_uri": "https://localhost:8080/"
        },
        "id": "75W90XohruLE",
        "outputId": "e159f1fe-02e0-4ad5-96ad-ba4bee5a5a8a"
      },
      "source": [
        "#Building Confusion matrix\n",
        "conf_matrix=confusion_matrix(yTest,y_pred,labels=['FAKE','REAL'])\n",
        "print('No. of true positives:{}'.format(conf_matrix[0][0]))\n",
        "print(f'No. of true negatives:{conf_matrix[0][1]}')\n",
        "print(f'No. of false positives:{conf_matrix[1][0]}')\n",
        "print(f'No. of true negatives:{conf_matrix[1][1]}')"
      ],
      "execution_count": 28,
      "outputs": [
        {
          "output_type": "stream",
          "text": [
            "No. of true positives:591\n",
            "No. of true negatives:47\n",
            "No. of false positives:42\n",
            "No. of true negatives:587\n"
          ],
          "name": "stdout"
        }
      ]
    }
  ]
}